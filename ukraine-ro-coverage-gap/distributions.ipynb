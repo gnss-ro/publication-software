{
 "cells": [
  {
   "cell_type": "markdown",
   "id": "190c095c",
   "metadata": {},
   "source": [
    "# Generate RO Distributions\n",
    "\n",
    "Authors: Stephen Leroy (sleroy@aer.com) \\\n",
    "Date: 16 May 2024\n",
    "\n",
    "This notebook can be used to plot distributions of RO data as manifested in the \n",
    "[AWS Registry of Open Data](https://registry.opendata.aws/gnss-ro-opendata/). In \n",
    "fact, this notebook is derived from one of the tutorials associated with the \n",
    "Registry of Open Data; see [database_demonstration.ipynb](https://github.com/gnss-ro/aws-opendata/blob/master/tutorials/database_demonstration.ipynb). \n"
   ]
  },
  {
   "cell_type": "markdown",
   "id": "00f78994",
   "metadata": {},
   "source": [
    "### Initialization\n",
    "\n",
    "If you haven't been through this procedure already, be sure that the following \n",
    "prerequisites are installed. \n",
    "\n",
    "- matplotlib\n",
    "- cartopy \n",
    "- awsgnssroutils (via \"pip install\")\n",
    "\n",
    "Once the above are installed, be sure to have specified defaults associated with \n",
    "*awsgnssroutils*. "
   ]
  },
  {
   "cell_type": "code",
   "execution_count": null,
   "id": "234fe2bb",
   "metadata": {},
   "outputs": [],
   "source": [
    "from awsgnssroutils.database import setdefaults\n",
    "import os\n",
    "\n",
    "HOME = os.path.expanduser(\"~\")\n",
    "metadata_root = os.path.join( HOME, \"local/rodatabase\" )\n",
    "data_root = os.path.join( HOME, \"Data/rodata\" )\n",
    "\n",
    "setdefaults( metadata_root=metadata_root, data_root=data_root, version=\"v1.1\" )"
   ]
  },
  {
   "cell_type": "markdown",
   "id": "15d210e9",
   "metadata": {},
   "source": [
    "The *repository_directory* is a path to the directory where a collection of json \n",
    "files will be downloaded and stored. It must be an absolute path. The \n",
    "*rodata_root_directory* is the default root directory for RO data downloads. It \n",
    "is optional, but it must also be an absolute path if it is specified. \n",
    "\n",
    "*Be certain you have enough storage available in your ~/local/rodatabase \n",
    "file space. RO metadata requires ~50 GB of storage. If you don't \n",
    "have enough space allocated, edit the above command to point toward a \n",
    "repository directory on a scratch volume, which typically has plenty of \n",
    "storage available for all RO metadata.*\n"
   ]
  },
  {
   "cell_type": "markdown",
   "id": "9d1cc041",
   "metadata": {},
   "source": [
    "### Distribution figure\n",
    "\n",
    "The portal to RO data in the AWS Registry of Open Data is the Python API *RODatabaseClient*. We will use it \n",
    "for the simple function of getting geolocation information over a to-be-defined range of time and plot the \n",
    "distribution of soundings color-coded by RO mission. "
   ]
  },
  {
   "cell_type": "code",
   "execution_count": null,
   "id": "0ab67199",
   "metadata": {},
   "outputs": [],
   "source": [
    "from awsgnssroutils.database import RODatabaseClient\n",
    "\n",
    "rodb = RODatabaseClient( update=False )\n",
    "print( rodb )"
   ]
  },
  {
   "cell_type": "markdown",
   "id": "158bc815",
   "metadata": {},
   "source": [
    "Define a range of times over which to get RO geolocations as processed by a contributing RO processing center. Valid centers are \"ucar\", \"jpl\", and \"romsaf\". Valid RO soundings are those associated with successfully \n",
    "retrieved bending angle and refractivity profiles. "
   ]
  },
  {
   "cell_type": "code",
   "execution_count": null,
   "id": "e59b4d57",
   "metadata": {},
   "outputs": [],
   "source": [
    "processing_center = \"ucar\"\n",
    "datetimerange = ( \"2023-07-01\", \"2023-07-15\" )\n",
    "missions = None\n",
    "\n",
    "availablefiletypes = f'{processing_center}_refractivityRetrieval'\n",
    "occlist = rodb.query( missions=missions, datetimerange=datetimerange, availablefiletypes=availablefiletypes )\n",
    "print( occlist )\n",
    "\n",
    "from datetime import datetime, timedelta\n",
    "\n",
    "trange = [ datetime.fromisoformat(dt) for dt in datetimerange ]\n",
    "trange[1] = trange[1] - timedelta(days=1)\n",
    "\n",
    "title = \"RO Distribution for {:} through {:}\".format( *[dt.strftime(\"%d %b %Y\") for dt in trange ] )\n"
   ]
  },
  {
   "cell_type": "markdown",
   "id": "d8098392",
   "metadata": {},
   "source": [
    "Get a list of all of the RO missions that contributed profiles over this time range. "
   ]
  },
  {
   "cell_type": "code",
   "execution_count": null,
   "id": "f106b53c",
   "metadata": {},
   "outputs": [],
   "source": [
    "missions = occlist.info( \"mission\" )\n",
    "print( \"missions: \" + \", \".join( missions ) )"
   ]
  },
  {
   "cell_type": "markdown",
   "id": "68e1da9f",
   "metadata": {},
   "source": [
    "Because the mission names are lower-case mnemonics, compose a list of presentation names for these missions. \n",
    "You will have to add to this list or edit it according to the missions of interest. "
   ]
  },
  {
   "cell_type": "code",
   "execution_count": null,
   "id": "ff4a93b5",
   "metadata": {},
   "outputs": [],
   "source": [
    "mission_names = [ \n",
    "    { 'aws': \"cosmic2\", 'presentation': \"COSMIC-2\" }, \n",
    "    { 'aws': \"kompsat5\", 'presentation': \"KompSat-5\" }, \n",
    "    { 'aws': \"metop\", 'presentation': \"Metop\" }, \n",
    "    { 'aws': \"paz\", 'presentation': \"rohp-PAZ\" }, \n",
    "    { 'aws': \"spire\", 'presentation': \"Spire\" }, \n",
    "    { 'aws': \"tdx\", 'presentation': \"TanDEM-X\" }, \n",
    "    { 'aws': \"tsx\", 'presentation': \"TerraSAR-X\" }, \n",
    "]\n",
    "\n",
    "for mission in missions: \n",
    "    if mission not in [ m['aws'] for m in mission_names ]: \n",
    "        print( f'Be sure to account for {mission} in mission_names.' )"
   ]
  },
  {
   "cell_type": "markdown",
   "id": "0411588a",
   "metadata": {},
   "source": [
    "Do the plotting. "
   ]
  },
  {
   "cell_type": "code",
   "execution_count": null,
   "id": "6642efa4",
   "metadata": {},
   "outputs": [],
   "source": [
    "outputfile = 'distribution.eps'  #  Set this to None if you wish to see output in this notebook. \n",
    "# outputfile = None\n",
    "\n",
    "import matplotlib.pyplot as plt\n",
    "import cartopy.crs as ccrs\n",
    "\n",
    "plt.clf()\n",
    "cmap = plt.get_cmap( \"nipy_spectral\" )\n",
    "fig = plt.figure( figsize=(6,4) )\n",
    "ax = fig.add_axes( [0.01,0.01,0.98,0.98], projection=ccrs.PlateCarree() )\n",
    "ax.coastlines( color=\"black\" )\n",
    "ax.set_title( title )\n",
    "\n",
    "for imission, mission in enumerate(missions): \n",
    "    occlist_by_mission = occlist.filter( missions=mission )\n",
    "    lons = occlist_by_mission.values( \"longitude\" )\n",
    "    lats = occlist_by_mission.values( \"latitude\" )\n",
    "    color = cmap( (imission+0.5)/len(missions) )\n",
    "    mission_name = [ m['presentation'] for m in mission_names if m['aws']==mission ][0]\n",
    "    ax.scatter( lons, lats, color=color, marker=\"o\", s=0.2 , label=mission_name )\n",
    "    \n",
    "longituderange = ( 20, 55 )\n",
    "latituderange = ( 40, 65 )\n",
    "\n",
    "ax.plot( [ longituderange[0], longituderange[1], longituderange[1], longituderange[0], longituderange[0] ], \n",
    "       [ latituderange[0], latituderange[0], latituderange[1], latituderange[1], latituderange[0] ], \n",
    "       lw=0.1, color=\"#808080\" )\n",
    "\n",
    "ax.legend(loc=\"lower left\", fontsize=\"x-small\")\n",
    "\n",
    "if outputfile is None: \n",
    "    fig.show()\n",
    "else: \n",
    "    fmt = outputfile.split(\".\")[-1]\n",
    "    print( f'Generating {outputfile}.' )\n",
    "    plt.savefig( outputfile, format=fmt)"
   ]
  },
  {
   "cell_type": "code",
   "execution_count": null,
   "id": "54fbd4ca",
   "metadata": {},
   "outputs": [],
   "source": []
  }
 ],
 "metadata": {
  "kernelspec": {
   "display_name": "Python 3 (ipykernel)",
   "language": "python",
   "name": "python3"
  },
  "language_info": {
   "codemirror_mode": {
    "name": "ipython",
    "version": 3
   },
   "file_extension": ".py",
   "mimetype": "text/x-python",
   "name": "python",
   "nbconvert_exporter": "python",
   "pygments_lexer": "ipython3",
   "version": "3.9.18"
  }
 },
 "nbformat": 4,
 "nbformat_minor": 5
}
